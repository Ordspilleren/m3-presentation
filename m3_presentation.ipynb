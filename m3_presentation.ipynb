{
 "cells": [
  {
   "cell_type": "markdown",
   "metadata": {
    "colab_type": "text",
    "id": "RVAQjtI_cvsv"
   },
   "source": [
    "We would like to work with a prediction / classification problem. We are interested in seeing which font color to use on different background colors (in RGB values).\n",
    "\n",
    "Say we choose a specific color like this one, we would like to make a model which can predict which font type is best suited for it in regards to it's luminence (we are only working with white or black font).\n",
    "\n",
    "![alt text](https://i.imgur.com/JG2DfkA.png)\n",
    "\n",
    "There is a formula for solving this problem. The correct font color for the background is decided by how bright the background color is and if background color luminance > 0.5 then you should choose a dark font and of course if the background color luminance < 0.5 you should choose a white font. \n",
    "This formula can be found on StackOverflow: https://stackoverflow.com/questions/1855884/determine-font-color-based-on-background-color#1855903\n",
    "\n",
    "![Formel](https://i.imgur.com/IHgj5A9.png)\n",
    "\n",
    "But what if we didn't have this formula, or it simply hasn't been discovered yet? In that case, a neural network can help us. We therefore try to make a model, which can solve this prediction problem for us using a neural network. \n",
    "\n",
    "![alt text](https://i.imgur.com/XDs6kM6.png)\n",
    "\n",
    "Credits for idea and illustrations go to: Thomas Nield (Youtube: https://www.youtube.com/watch?v=tAioWlhKA90)\n",
    "\n"
   ]
  },
  {
   "cell_type": "code",
   "execution_count": 43,
   "metadata": {
    "colab": {
     "base_uri": "https://localhost:8080/",
     "height": 34
    },
    "colab_type": "code",
    "id": "nreuHxT2ONCI",
    "outputId": "4a60d2ee-5c79-4684-a247-6d48c24c6a0e"
   },
   "outputs": [],
   "source": [
    "#First we imported the needed libraries\n",
    "import pandas as pd\n",
    "import numpy as np\n",
    "\n",
    "from keras.layers import Dense\n",
    "from keras.models import Sequential\n",
    "from keras.callbacks import EarlyStopping"
   ]
  },
  {
   "cell_type": "markdown",
   "metadata": {
    "colab_type": "text",
    "id": "LdylSeCYzePJ"
   },
   "source": [
    "Here, we download our training dataset."
   ]
  },
  {
   "cell_type": "code",
   "execution_count": 44,
   "metadata": {
    "colab": {
     "base_uri": "https://localhost:8080/",
     "height": 210
    },
    "colab_type": "code",
    "id": "xadss7RsOvqJ",
    "outputId": "a85582c3-54d4-4966-fa8b-baac5ed9ab61"
   },
   "outputs": [
    {
     "name": "stdout",
     "output_type": "stream",
     "text": [
      "--2018-11-08 19:28:01--  https://raw.githubusercontent.com/thomasnield/kotlin_simple_neural_network/master/src/main/resources/color_training_set.csv\n",
      "Resolving raw.githubusercontent.com (raw.githubusercontent.com)... 151.101.84.133\n",
      "Connecting to raw.githubusercontent.com (raw.githubusercontent.com)|151.101.84.133|:443... connected.\n",
      "HTTP request sent, awaiting response... 200 OK\n",
      "Length: 14822 (14K) [text/plain]\n",
      "Saving to: ‘color_training_set.csv.1’\n",
      "\n",
      "color_training_set. 100%[===================>]  14.47K  --.-KB/s    in 0.02s   \n",
      "\n",
      "2018-11-08 19:28:01 (687 KB/s) - ‘color_training_set.csv.1’ saved [14822/14822]\n",
      "\n"
     ]
    }
   ],
   "source": [
    "# Download the color training dataset\n",
    "!wget https://raw.githubusercontent.com/thomasnield/kotlin_simple_neural_network/master/src/main/resources/color_training_set.csv"
   ]
  },
  {
   "cell_type": "code",
   "execution_count": 45,
   "metadata": {
    "colab": {},
    "colab_type": "code",
    "id": "IPWbgPK3O4Xj"
   },
   "outputs": [],
   "source": [
    "predictors = pd.read_csv('color_training_set.csv')\n",
    "predictors.columns = ['r', 'g', 'b']"
   ]
  },
  {
   "cell_type": "code",
   "execution_count": 46,
   "metadata": {
    "colab": {
     "base_uri": "https://localhost:8080/",
     "height": 158
    },
    "colab_type": "code",
    "id": "TLXo2G8YXexd",
    "outputId": "f1e2ac6f-fdec-4214-8616-2ca3dd9b33dd"
   },
   "outputs": [
    {
     "name": "stdout",
     "output_type": "stream",
     "text": [
      "<class 'pandas.core.frame.DataFrame'>\n",
      "RangeIndex: 1344 entries, 0 to 1343\n",
      "Data columns (total 3 columns):\n",
      "r    1344 non-null int64\n",
      "g    1344 non-null int64\n",
      "b    1344 non-null int64\n",
      "dtypes: int64(3)\n",
      "memory usage: 31.6 KB\n"
     ]
    }
   ],
   "source": [
    "predictors.info()"
   ]
  },
  {
   "cell_type": "markdown",
   "metadata": {
    "colab_type": "text",
    "id": "G4TKS168zmH7"
   },
   "source": [
    "As can be seen, the training dataset consists of 1344 different background colors in RGB values. We will use these to train our model.\n",
    "\n",
    "Next up, we define a function to calculate the optimal font color using the formula we described before. This will be used to classify which font color is optimal for each of our 1344 background colors.\n",
    "Of course, this is a bit of a cheat since we supposedly haven't discovered this formula yet, but the equivalent would be to manually classify each background color by hand. We simply do this to save time, yay for being lazy! 😏"
   ]
  },
  {
   "cell_type": "code",
   "execution_count": 47,
   "metadata": {
    "colab": {},
    "colab_type": "code",
    "id": "cJptJ0BFUuRP"
   },
   "outputs": [],
   "source": [
    "# Predict the optimal shade using the formula. This function takes a list as its input.\n",
    "def FormulaicPredict(color):\n",
    "  r = color[0]\n",
    "  g = color[1]\n",
    "  b = color[2]\n",
    "  d = 0\n",
    "  l = 0\n",
    "  \n",
    "  luminance = (0.299 * r + 0.587 * g + 0.114 * b)/255\n",
    "  \n",
    "  if luminance > 0.5:\n",
    "    d = 1 # bright background, black font\n",
    "    l = 0\n",
    "  else:\n",
    "    d = 0 # dark background, white font\n",
    "    l = 1\n",
    "    \n",
    "  return pd.Series([d,l])\n",
    "\n"
   ]
  },
  {
   "cell_type": "markdown",
   "metadata": {
    "colab_type": "text",
    "id": "M2as0FAF1L6j"
   },
   "source": [
    "We will now apply the above formula to each row in our training dataset. With this, we create a new DataFrame with the predictions for each background color."
   ]
  },
  {
   "cell_type": "code",
   "execution_count": 48,
   "metadata": {
    "colab": {},
    "colab_type": "code",
    "id": "OBho0ZuCWjdq"
   },
   "outputs": [],
   "source": [
    "target = predictors.apply(FormulaicPredict, axis=1)\n",
    "target.columns = ['dark', 'light']"
   ]
  },
  {
   "cell_type": "code",
   "execution_count": 49,
   "metadata": {
    "colab": {
     "base_uri": "https://localhost:8080/",
     "height": 195
    },
    "colab_type": "code",
    "id": "esSsrv3mhm3d",
    "outputId": "f8607d7a-b94d-4698-a165-db3f6a87e94a"
   },
   "outputs": [
    {
     "data": {
      "text/html": [
       "<div>\n",
       "<style scoped>\n",
       "    .dataframe tbody tr th:only-of-type {\n",
       "        vertical-align: middle;\n",
       "    }\n",
       "\n",
       "    .dataframe tbody tr th {\n",
       "        vertical-align: top;\n",
       "    }\n",
       "\n",
       "    .dataframe thead th {\n",
       "        text-align: right;\n",
       "    }\n",
       "</style>\n",
       "<table border=\"1\" class=\"dataframe\">\n",
       "  <thead>\n",
       "    <tr style=\"text-align: right;\">\n",
       "      <th></th>\n",
       "      <th>dark</th>\n",
       "      <th>light</th>\n",
       "    </tr>\n",
       "  </thead>\n",
       "  <tbody>\n",
       "    <tr>\n",
       "      <th>0</th>\n",
       "      <td>0</td>\n",
       "      <td>1</td>\n",
       "    </tr>\n",
       "    <tr>\n",
       "      <th>1</th>\n",
       "      <td>0</td>\n",
       "      <td>1</td>\n",
       "    </tr>\n",
       "    <tr>\n",
       "      <th>2</th>\n",
       "      <td>0</td>\n",
       "      <td>1</td>\n",
       "    </tr>\n",
       "    <tr>\n",
       "      <th>3</th>\n",
       "      <td>0</td>\n",
       "      <td>1</td>\n",
       "    </tr>\n",
       "    <tr>\n",
       "      <th>4</th>\n",
       "      <td>0</td>\n",
       "      <td>1</td>\n",
       "    </tr>\n",
       "  </tbody>\n",
       "</table>\n",
       "</div>"
      ],
      "text/plain": [
       "   dark  light\n",
       "0     0      1\n",
       "1     0      1\n",
       "2     0      1\n",
       "3     0      1\n",
       "4     0      1"
      ]
     },
     "execution_count": 49,
     "metadata": {},
     "output_type": "execute_result"
    }
   ],
   "source": [
    "target.head()"
   ]
  },
  {
   "cell_type": "markdown",
   "metadata": {
    "colab_type": "text",
    "id": "yvaRRlvlom3s"
   },
   "source": [
    "We start building the architecture for our model, first we set up our model with the Sequential() function.\n",
    "\n",
    "We add our first layer using 3 nodes, using the 'relu' activation which is one of the most commonly used activation functions.\n",
    "\n",
    "![alt text](https://i.imgur.com/6xZdwAk.png)\n",
    "\n",
    "Here is a picture of some of the other activation functions just to give a understanding of how they work.\n",
    "\n",
    "\n",
    "\n",
    "\n",
    "\n",
    "\n",
    "\n",
    "![alt text](https://i.imgur.com/wz34AGD.png)\n",
    "\n",
    "Here we see a picture of how the idea of our different layers of the model should work with the relu activation function, we take our nodes value and they are multiplied by the weights and added in the next layer and then again multiplied and added for a sum. This should give the network the value to predict which font color to use based on which background color it see's. These weights can change over time as the model get's more information."
   ]
  },
  {
   "cell_type": "code",
   "execution_count": 50,
   "metadata": {
    "colab": {
     "base_uri": "https://localhost:8080/",
     "height": 3202
    },
    "colab_type": "code",
    "id": "J5ONXE_McfFN",
    "outputId": "3157946b-03d4-4e3a-fe82-e90c405683ac"
   },
   "outputs": [
    {
     "name": "stdout",
     "output_type": "stream",
     "text": [
      "Train on 940 samples, validate on 404 samples\n",
      "Epoch 1/250\n",
      "940/940 [==============================] - 1s 1ms/step - loss: 4.5330 - acc: 0.6426 - val_loss: 6.7500 - val_acc: 0.4765\n",
      "Epoch 2/250\n",
      "940/940 [==============================] - 0s 110us/step - loss: 4.3814 - acc: 0.6457 - val_loss: 6.6713 - val_acc: 0.4839\n",
      "Epoch 3/250\n",
      "940/940 [==============================] - 0s 114us/step - loss: 4.2654 - acc: 0.6559 - val_loss: 6.4793 - val_acc: 0.4839\n",
      "Epoch 4/250\n",
      "940/940 [==============================] - 0s 114us/step - loss: 4.1189 - acc: 0.6601 - val_loss: 6.3303 - val_acc: 0.5025\n",
      "Epoch 5/250\n",
      "940/940 [==============================] - 0s 113us/step - loss: 3.8509 - acc: 0.6691 - val_loss: 5.8037 - val_acc: 0.5606\n",
      "Epoch 6/250\n",
      "940/940 [==============================] - 0s 107us/step - loss: 3.5112 - acc: 0.7112 - val_loss: 5.4714 - val_acc: 0.5557\n",
      "Epoch 7/250\n",
      "940/940 [==============================] - 0s 111us/step - loss: 3.4122 - acc: 0.7165 - val_loss: 5.2389 - val_acc: 0.5668\n",
      "Epoch 8/250\n",
      "940/940 [==============================] - 0s 135us/step - loss: 3.3114 - acc: 0.7096 - val_loss: 5.0049 - val_acc: 0.5705\n",
      "Epoch 9/250\n",
      "940/940 [==============================] - 0s 114us/step - loss: 3.2045 - acc: 0.7160 - val_loss: 4.7264 - val_acc: 0.5842\n",
      "Epoch 10/250\n",
      "940/940 [==============================] - 0s 115us/step - loss: 3.0811 - acc: 0.7165 - val_loss: 4.4835 - val_acc: 0.5891\n",
      "Epoch 11/250\n",
      "940/940 [==============================] - 0s 109us/step - loss: 2.9361 - acc: 0.7160 - val_loss: 4.1567 - val_acc: 0.6225\n",
      "Epoch 12/250\n",
      "940/940 [==============================] - 0s 109us/step - loss: 2.7762 - acc: 0.7303 - val_loss: 3.7776 - val_acc: 0.6337\n",
      "Epoch 13/250\n",
      "940/940 [==============================] - 0s 117us/step - loss: 2.5084 - acc: 0.7404 - val_loss: 3.4896 - val_acc: 0.6460\n",
      "Epoch 14/250\n",
      "940/940 [==============================] - 0s 104us/step - loss: 2.3179 - acc: 0.7420 - val_loss: 3.3084 - val_acc: 0.6696\n",
      "Epoch 15/250\n",
      "940/940 [==============================] - 0s 105us/step - loss: 2.2219 - acc: 0.7543 - val_loss: 3.2327 - val_acc: 0.6621\n",
      "Epoch 16/250\n",
      "940/940 [==============================] - 0s 115us/step - loss: 2.1636 - acc: 0.7559 - val_loss: 3.1487 - val_acc: 0.6733\n",
      "Epoch 17/250\n",
      "940/940 [==============================] - 0s 129us/step - loss: 2.0884 - acc: 0.7649 - val_loss: 3.0904 - val_acc: 0.6745\n",
      "Epoch 18/250\n",
      "940/940 [==============================] - 0s 111us/step - loss: 2.0414 - acc: 0.7601 - val_loss: 3.0422 - val_acc: 0.6770\n",
      "Epoch 19/250\n",
      "940/940 [==============================] - 0s 113us/step - loss: 1.9610 - acc: 0.7612 - val_loss: 2.8617 - val_acc: 0.6881\n",
      "Epoch 20/250\n",
      "940/940 [==============================] - 0s 111us/step - loss: 1.8779 - acc: 0.7649 - val_loss: 2.7026 - val_acc: 0.7203\n",
      "Epoch 21/250\n",
      "940/940 [==============================] - 0s 114us/step - loss: 1.7808 - acc: 0.7739 - val_loss: 2.4847 - val_acc: 0.6931\n",
      "Epoch 22/250\n",
      "940/940 [==============================] - 0s 119us/step - loss: 1.5729 - acc: 0.7665 - val_loss: 1.9763 - val_acc: 0.6894\n",
      "Epoch 23/250\n",
      "940/940 [==============================] - 0s 114us/step - loss: 1.2258 - acc: 0.7665 - val_loss: 1.1743 - val_acc: 0.7723\n",
      "Epoch 24/250\n",
      "940/940 [==============================] - 0s 111us/step - loss: 0.8402 - acc: 0.7846 - val_loss: 0.6478 - val_acc: 0.7723\n",
      "Epoch 25/250\n",
      "940/940 [==============================] - 0s 109us/step - loss: 0.5402 - acc: 0.8090 - val_loss: 0.4498 - val_acc: 0.8527\n",
      "Epoch 26/250\n",
      "940/940 [==============================] - 0s 108us/step - loss: 0.4397 - acc: 0.8271 - val_loss: 0.3875 - val_acc: 0.8292\n",
      "Epoch 27/250\n",
      "940/940 [==============================] - 0s 132us/step - loss: 0.3717 - acc: 0.8473 - val_loss: 0.3460 - val_acc: 0.9022\n",
      "Epoch 28/250\n",
      "940/940 [==============================] - 0s 111us/step - loss: 0.3550 - acc: 0.8665 - val_loss: 0.4167 - val_acc: 0.7983\n",
      "Epoch 29/250\n",
      "940/940 [==============================] - 0s 97us/step - loss: 0.3450 - acc: 0.8468 - val_loss: 0.3183 - val_acc: 0.9629\n",
      "Epoch 30/250\n",
      "940/940 [==============================] - 0s 111us/step - loss: 0.3165 - acc: 0.8617 - val_loss: 0.2973 - val_acc: 0.9208\n",
      "Epoch 31/250\n",
      "940/940 [==============================] - 0s 112us/step - loss: 0.3091 - acc: 0.8628 - val_loss: 0.2839 - val_acc: 0.8663\n",
      "Epoch 32/250\n",
      "940/940 [==============================] - 0s 115us/step - loss: 0.3014 - acc: 0.8617 - val_loss: 0.2762 - val_acc: 0.8960\n",
      "Epoch 33/250\n",
      "940/940 [==============================] - 0s 107us/step - loss: 0.2948 - acc: 0.8691 - val_loss: 0.2791 - val_acc: 0.8626\n",
      "Epoch 34/250\n",
      "940/940 [==============================] - 0s 109us/step - loss: 0.2970 - acc: 0.8676 - val_loss: 0.2669 - val_acc: 0.8824\n",
      "Epoch 35/250\n",
      "940/940 [==============================] - 0s 112us/step - loss: 0.2962 - acc: 0.8910 - val_loss: 0.2691 - val_acc: 0.8837\n",
      "Epoch 36/250\n",
      "940/940 [==============================] - 0s 115us/step - loss: 0.2981 - acc: 0.8691 - val_loss: 0.2721 - val_acc: 0.8911\n",
      "Epoch 37/250\n",
      "940/940 [==============================] - 0s 111us/step - loss: 0.2831 - acc: 0.8739 - val_loss: 0.2548 - val_acc: 0.8787\n",
      "Epoch 38/250\n",
      "940/940 [==============================] - 0s 114us/step - loss: 0.2750 - acc: 0.8809 - val_loss: 0.2525 - val_acc: 0.9257\n",
      "Epoch 39/250\n",
      "940/940 [==============================] - 0s 113us/step - loss: 0.2919 - acc: 0.8835 - val_loss: 0.2687 - val_acc: 0.8787\n",
      "Epoch 40/250\n",
      "940/940 [==============================] - 0s 112us/step - loss: 0.2838 - acc: 0.8787 - val_loss: 0.2288 - val_acc: 0.9282\n",
      "Epoch 41/250\n",
      "940/940 [==============================] - 0s 118us/step - loss: 0.2667 - acc: 0.8936 - val_loss: 0.2356 - val_acc: 0.9282\n",
      "Epoch 42/250\n",
      "940/940 [==============================] - 0s 110us/step - loss: 0.2655 - acc: 0.8957 - val_loss: 0.2412 - val_acc: 0.9270\n",
      "Epoch 43/250\n",
      "940/940 [==============================] - 0s 110us/step - loss: 0.2725 - acc: 0.8862 - val_loss: 0.2201 - val_acc: 0.9344\n",
      "Epoch 44/250\n",
      "940/940 [==============================] - 0s 113us/step - loss: 0.2572 - acc: 0.8883 - val_loss: 0.2288 - val_acc: 0.9394\n",
      "Epoch 45/250\n",
      "940/940 [==============================] - 0s 107us/step - loss: 0.2616 - acc: 0.9005 - val_loss: 0.2262 - val_acc: 0.9666\n",
      "Epoch 46/250\n",
      "940/940 [==============================] - 0s 139us/step - loss: 0.2701 - acc: 0.9090 - val_loss: 0.2334 - val_acc: 0.9307\n"
     ]
    }
   ],
   "source": [
    "np.random.seed(10) # Set to 10 for a good result, 8 for a worse one\n",
    "\n",
    "model = Sequential()\n",
    "model.add(Dense(3, activation='relu', input_dim=3))\n",
    "model.add(Dense(3, activation='relu'))\n",
    "model.add(Dense(2, activation='sigmoid'))\n",
    "\n",
    "# Compile the model\n",
    "model.compile(optimizer='adam', loss='binary_crossentropy', metrics=['accuracy'])\n",
    "\n",
    "early_stopping_monitor = EarlyStopping(patience=3)\n",
    "\n",
    "# Fit the model\n",
    "history = model.fit(predictors, target, validation_split=0.3, epochs=250, callbacks=[early_stopping_monitor])"
   ]
  },
  {
   "cell_type": "code",
   "execution_count": 51,
   "metadata": {
    "colab": {
     "base_uri": "https://localhost:8080/",
     "height": 251
    },
    "colab_type": "code",
    "id": "BVYfLtMeKFM8",
    "outputId": "0688173b-acdb-4f6b-cbe0-d39f6beac92f"
   },
   "outputs": [
    {
     "name": "stdout",
     "output_type": "stream",
     "text": [
      "_________________________________________________________________\n",
      "Layer (type)                 Output Shape              Param #   \n",
      "=================================================================\n",
      "dense_85 (Dense)             (None, 3)                 12        \n",
      "_________________________________________________________________\n",
      "dense_86 (Dense)             (None, 3)                 12        \n",
      "_________________________________________________________________\n",
      "dense_87 (Dense)             (None, 2)                 8         \n",
      "=================================================================\n",
      "Total params: 32\n",
      "Trainable params: 32\n",
      "Non-trainable params: 0\n",
      "_________________________________________________________________\n"
     ]
    }
   ],
   "source": [
    "model.summary()"
   ]
  },
  {
   "cell_type": "markdown",
   "metadata": {},
   "source": [
    "Let's plot the results of our trained model. Here we plot the accuracy and loss over time."
   ]
  },
  {
   "cell_type": "code",
   "execution_count": 52,
   "metadata": {},
   "outputs": [],
   "source": [
    "import matplotlib.pyplot as plt\n",
    "import seaborn as sns"
   ]
  },
  {
   "cell_type": "code",
   "execution_count": 53,
   "metadata": {},
   "outputs": [
    {
     "data": {
      "image/png": "[encoded data removed]",
      "text/plain": [
       "<Figure size 576x396 with 1 Axes>"
      ]
     },
     "metadata": {},
     "output_type": "display_data"
    },
    {
     "data": {
      "image/png": "[encoded data removed]",
      "text/plain": [
       "<Figure size 576x396 with 1 Axes>"
      ]
     },
     "metadata": {},
     "output_type": "display_data"
    }
   ],
   "source": [
    "plt.style.use('seaborn')\n",
    "\n",
    "# summarize history for accuracy\n",
    "plt.plot(history.history['acc'])\n",
    "plt.plot(history.history['val_acc'])\n",
    "plt.title('model accuracy')\n",
    "plt.ylabel('accuracy')\n",
    "plt.xlabel('epoch')\n",
    "plt.legend(['train', 'test'], loc='upper left')\n",
    "plt.show()\n",
    "# summarize history for loss\n",
    "plt.plot(history.history['loss'])\n",
    "plt.plot(history.history['val_loss'])\n",
    "plt.title('model loss')\n",
    "plt.ylabel('loss')\n",
    "plt.xlabel('epoch')\n",
    "plt.legend(['train', 'test'], loc='upper left')\n",
    "plt.show()"
   ]
  },
  {
   "cell_type": "markdown",
   "metadata": {
    "colab_type": "text",
    "id": "X3XbdsGRuu1q"
   },
   "source": [
    "There is room for optimizing the model, where you can think about different things. \n",
    "How many layers are needed, how many nodes are needed in every layer and which activation function should you use.\n",
    "You can also tweek the model on learning rate and how to measure for error.\n",
    "\n",
    "Let's quickly try predicting with a black background color."
   ]
  },
  {
   "cell_type": "code",
   "execution_count": 54,
   "metadata": {
    "colab": {
     "base_uri": "https://localhost:8080/",
     "height": 35
    },
    "colab_type": "code",
    "id": "D8CCRoWtKepd",
    "outputId": "c01fe234-4476-4ecd-e6bc-81c3e7d4a0ff"
   },
   "outputs": [
    {
     "data": {
      "text/plain": [
       "array([[ 0.08755194,  0.90613025]], dtype=float32)"
      ]
     },
     "execution_count": 54,
     "metadata": {},
     "output_type": "execute_result"
    }
   ],
   "source": [
    "bgcolor = pd.DataFrame([[0,0,0]])\n",
    "prediction = model.predict(bgcolor)\n",
    "prediction"
   ]
  },
  {
   "cell_type": "markdown",
   "metadata": {},
   "source": [
    "The left value is dark, the right value is light. Ideally, the preferred font color would be 1, but it would require a lot of optimization to reach that, as that would be a perfectly trained model. To evaluate which font color we should go with, we simply check which of these values is the highest instead."
   ]
  },
  {
   "cell_type": "markdown",
   "metadata": {
    "colab_type": "text",
    "id": "u5GH_L-sKFNC"
   },
   "source": [
    "## Interactive prediction"
   ]
  },
  {
   "cell_type": "markdown",
   "metadata": {},
   "source": [
    "The following code won't run without Jupyter Notebook since we use some features specific to that."
   ]
  },
  {
   "cell_type": "code",
   "execution_count": 55,
   "metadata": {
    "colab": {},
    "colab_type": "code",
    "id": "5fCB8XUSdu5u"
   },
   "outputs": [],
   "source": [
    "from IPython.core.display import display, HTML\n",
    "\n",
    "def predictColor(r, g, b):\n",
    "  bgcolor = pd.DataFrame([[r,g,b]])\n",
    "  bgcolor_hex = '#%02x%02x%02x' % (r, g, b)\n",
    "  black = '#000'\n",
    "  white = '#fff'\n",
    "  fontcolor = ''\n",
    "  prediction = model.predict(bgcolor)\n",
    "  \n",
    "  if prediction[0][0] > prediction[0][1]:\n",
    "    fontcolor = black\n",
    "  else:\n",
    "    fontcolor = white\n",
    "    \n",
    "  display(HTML('<div style=\"background-color:{0}; color:{1};\">SOME TEXT</div>'.format(bgcolor_hex, fontcolor)))"
   ]
  },
  {
   "cell_type": "code",
   "execution_count": 56,
   "metadata": {
    "colab": {},
    "colab_type": "code",
    "id": "8CF96Sr2yltu"
   },
   "outputs": [
    {
     "data": {
      "application/vnd.jupyter.widget-view+json": {
       "model_id": "3ea1bb8ef94c4ebcacb85b5489293c87",
       "version_major": 2,
       "version_minor": 0
      },
      "text/plain": [
       "ColorPicker(value='blue', description='Pick a color')"
      ]
     },
     "metadata": {},
     "output_type": "display_data"
    },
    {
     "data": {
      "application/vnd.jupyter.widget-view+json": {
       "model_id": "af88ef4ec2bb44e081066b088ec6907e",
       "version_major": 2,
       "version_minor": 0
      },
      "text/plain": [
       "Output()"
      ]
     },
     "metadata": {},
     "output_type": "display_data"
    }
   ],
   "source": [
    "from ipywidgets import interact, interactive, fixed, interact_manual\n",
    "import ipywidgets as widgets\n",
    "\n",
    "colorpicker = widgets.ColorPicker(\n",
    "    concise=False,\n",
    "    description='Pick a color',\n",
    "    value='blue',\n",
    "    disabled=False\n",
    ")\n",
    "display(colorpicker)\n",
    "\n",
    "out = widgets.Output()\n",
    "display(out)\n",
    "\n",
    "@out.capture()\n",
    "def on_change(change):\n",
    "    if change['type'] == 'change' and change['name'] == 'value':\n",
    "        h = colorpicker.value\n",
    "        rgb = tuple(int(h.lstrip('#')[i:i+2], 16) for i in (0, 2 ,4))\n",
    "        predictColor(rgb[0], rgb[1], rgb[2])\n",
    "    \n",
    "colorpicker.observe(on_change)"
   ]
  }
 ],
 "metadata": {
  "colab": {
   "collapsed_sections": [],
   "name": "m3_presentation.ipynb",
   "provenance": [],
   "version": "0.3.2"
  },
  "kernelspec": {
   "display_name": "Python 3",
   "language": "python",
   "name": "python3"
  },
  "language_info": {
   "codemirror_mode": {
    "name": "ipython",
    "version": 3
   },
   "file_extension": ".py",
   "mimetype": "text/x-python",
   "name": "python",
   "nbconvert_exporter": "python",
   "pygments_lexer": "ipython3",
   "version": "3.6.6"
  }
 },
 "nbformat": 4,
 "nbformat_minor": 2
}
