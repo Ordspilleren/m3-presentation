{
 "cells": [
  {
   "cell_type": "markdown",
   "metadata": {
    "colab_type": "text",
    "id": "RVAQjtI_cvsv"
   },
   "source": [
    "We would like to work with a prediction / classification problem. We are interested in seeing which font color to use on different background colors (in RGB values).\n",
    "\n",
    "Say we choose a specific color like this one, we would like to make a model which can predict which font type is best suited for it in regards to it's luminence (we are only working with white or black font).\n",
    "\n",
    "![alt text](https://i.imgur.com/JG2DfkA.png)\n",
    "\n",
    "There is a formula for solving this problem. The correct font color for the background is decided by how bright the background color is and if background color luminance > 0.5 then you should choose a dark font and of course if the background color luminance < 0.5 you should choose a white font. \n",
    "This formula can be found on StackOverflow: https://stackoverflow.com/questions/1855884/determine-font-color-based-on-background-color#1855903\n",
    "\n",
    "![Formel](https://i.imgur.com/IHgj5A9.png)\n",
    "\n",
    "But what if we didn't have this formula, or it simply hasn't been discovered yet? In that case, a neural network can help us. We therefore try to make a model, which can solve this prediction problem for us using a neural network. \n",
    "\n",
    "![alt text](https://i.imgur.com/XDs6kM6.png)\n",
    "\n",
    "Credits for idea and illustrations go to: Thomas Nield (Youtube: https://www.youtube.com/watch?v=tAioWlhKA90)\n",
    "\n"
   ]
  },
  {
   "cell_type": "code",
   "execution_count": 2,
   "metadata": {
    "colab": {
     "base_uri": "https://localhost:8080/",
     "height": 34
    },
    "colab_type": "code",
    "id": "nreuHxT2ONCI",
    "outputId": "4a60d2ee-5c79-4684-a247-6d48c24c6a0e"
   },
   "outputs": [
    {
     "name": "stderr",
     "output_type": "stream",
     "text": [
      "Using TensorFlow backend.\n"
     ]
    }
   ],
   "source": [
    "#First we imported the needed libraries\n",
    "import pandas as pd\n",
    "import numpy as np\n",
    "\n",
    "from keras.layers import Dense\n",
    "from keras.models import Sequential\n",
    "from keras.callbacks import EarlyStopping"
   ]
  },
  {
   "cell_type": "markdown",
   "metadata": {
    "colab_type": "text",
    "id": "LdylSeCYzePJ"
   },
   "source": [
    "Here, we download our training dataset."
   ]
  },
  {
   "cell_type": "code",
   "execution_count": 2,
   "metadata": {
    "colab": {
     "base_uri": "https://localhost:8080/",
     "height": 210
    },
    "colab_type": "code",
    "id": "xadss7RsOvqJ",
    "outputId": "a85582c3-54d4-4966-fa8b-baac5ed9ab61"
   },
   "outputs": [
    {
     "name": "stdout",
     "output_type": "stream",
     "text": [
      "--2018-11-06 20:13:27--  https://raw.githubusercontent.com/thomasnield/kotlin_simple_neural_network/master/src/main/resources/color_training_set.csv\n",
      "Resolving raw.githubusercontent.com (raw.githubusercontent.com)... 151.101.0.133, 151.101.64.133, 151.101.128.133, ...\n",
      "Connecting to raw.githubusercontent.com (raw.githubusercontent.com)|151.101.0.133|:443... connected.\n",
      "HTTP request sent, awaiting response... 200 OK\n",
      "Length: 14822 (14K) [text/plain]\n",
      "Saving to: ‘color_training_set.csv’\n",
      "\n",
      "color_training_set. 100%[===================>]  14.47K  --.-KB/s    in 0.01s   \n",
      "\n",
      "2018-11-06 20:13:27 (1.21 MB/s) - ‘color_training_set.csv’ saved [14822/14822]\n",
      "\n"
     ]
    }
   ],
   "source": [
    "# Download the color training dataset\n",
    "!wget https://raw.githubusercontent.com/thomasnield/kotlin_simple_neural_network/master/src/main/resources/color_training_set.csv"
   ]
  },
  {
   "cell_type": "code",
   "execution_count": 3,
   "metadata": {
    "colab": {},
    "colab_type": "code",
    "id": "IPWbgPK3O4Xj"
   },
   "outputs": [],
   "source": [
    "predictors = pd.read_csv('color_training_set.csv')\n",
    "predictors.columns = ['r', 'g', 'b']"
   ]
  },
  {
   "cell_type": "code",
   "execution_count": 4,
   "metadata": {
    "colab": {
     "base_uri": "https://localhost:8080/",
     "height": 158
    },
    "colab_type": "code",
    "id": "TLXo2G8YXexd",
    "outputId": "f1e2ac6f-fdec-4214-8616-2ca3dd9b33dd"
   },
   "outputs": [
    {
     "name": "stdout",
     "output_type": "stream",
     "text": [
      "<class 'pandas.core.frame.DataFrame'>\n",
      "RangeIndex: 1344 entries, 0 to 1343\n",
      "Data columns (total 3 columns):\n",
      "r    1344 non-null int64\n",
      "g    1344 non-null int64\n",
      "b    1344 non-null int64\n",
      "dtypes: int64(3)\n",
      "memory usage: 31.6 KB\n"
     ]
    }
   ],
   "source": [
    "predictors.info()"
   ]
  },
  {
   "cell_type": "markdown",
   "metadata": {
    "colab_type": "text",
    "id": "G4TKS168zmH7"
   },
   "source": [
    "As can be seen, the training dataset consists of 1344 different background colors in RGB values. We will use these to train our model.\n",
    "\n",
    "Next up, we define a function to calculate the optimal font color using the formula we described before. This will be used to classify which font color is optimal for each of our 1344 background colors.\n",
    "Of cause, this is a bit of a cheat since we supposedly haven't discovered this formula yet, but the equivalent would be to manually classify each background color by hand. We simply do this to save time, yay for being lazy! 😏"
   ]
  },
  {
   "cell_type": "code",
   "execution_count": 5,
   "metadata": {
    "colab": {},
    "colab_type": "code",
    "id": "cJptJ0BFUuRP"
   },
   "outputs": [],
   "source": [
    "# Predict the optimal shade using the formula. This function takes a list as its input.\n",
    "def FormulaicPredict(color):\n",
    "  r = color[0]\n",
    "  g = color[1]\n",
    "  b = color[2]\n",
    "  d = 0\n",
    "  l = 0\n",
    "  \n",
    "  luminance = (0.299 * r + 0.587 * g + 0.114 * b)/255\n",
    "  \n",
    "  if luminance > 0.5:\n",
    "    d = 1 # bright background, black font\n",
    "    l = 0\n",
    "  else:\n",
    "    d = 0 # dark background, white font\n",
    "    l = 1\n",
    "    \n",
    "  return pd.Series([d,l])\n",
    "\n"
   ]
  },
  {
   "cell_type": "markdown",
   "metadata": {
    "colab_type": "text",
    "id": "M2as0FAF1L6j"
   },
   "source": [
    "We will now apply the above formula to each row in our training dataset. With this, we create a new DataFrame with the predictions for each background color."
   ]
  },
  {
   "cell_type": "code",
   "execution_count": 6,
   "metadata": {
    "colab": {},
    "colab_type": "code",
    "id": "OBho0ZuCWjdq"
   },
   "outputs": [],
   "source": [
    "target = predictors.apply(FormulaicPredict, axis=1)\n",
    "target.columns = ['dark', 'light']"
   ]
  },
  {
   "cell_type": "code",
   "execution_count": 7,
   "metadata": {
    "colab": {
     "base_uri": "https://localhost:8080/",
     "height": 195
    },
    "colab_type": "code",
    "id": "esSsrv3mhm3d",
    "outputId": "f8607d7a-b94d-4698-a165-db3f6a87e94a"
   },
   "outputs": [
    {
     "data": {
      "text/html": [
       "<div>\n",
       "<style scoped>\n",
       "    .dataframe tbody tr th:only-of-type {\n",
       "        vertical-align: middle;\n",
       "    }\n",
       "\n",
       "    .dataframe tbody tr th {\n",
       "        vertical-align: top;\n",
       "    }\n",
       "\n",
       "    .dataframe thead th {\n",
       "        text-align: right;\n",
       "    }\n",
       "</style>\n",
       "<table border=\"1\" class=\"dataframe\">\n",
       "  <thead>\n",
       "    <tr style=\"text-align: right;\">\n",
       "      <th></th>\n",
       "      <th>dark</th>\n",
       "      <th>light</th>\n",
       "    </tr>\n",
       "  </thead>\n",
       "  <tbody>\n",
       "    <tr>\n",
       "      <th>0</th>\n",
       "      <td>0</td>\n",
       "      <td>1</td>\n",
       "    </tr>\n",
       "    <tr>\n",
       "      <th>1</th>\n",
       "      <td>0</td>\n",
       "      <td>1</td>\n",
       "    </tr>\n",
       "    <tr>\n",
       "      <th>2</th>\n",
       "      <td>0</td>\n",
       "      <td>1</td>\n",
       "    </tr>\n",
       "    <tr>\n",
       "      <th>3</th>\n",
       "      <td>0</td>\n",
       "      <td>1</td>\n",
       "    </tr>\n",
       "    <tr>\n",
       "      <th>4</th>\n",
       "      <td>0</td>\n",
       "      <td>1</td>\n",
       "    </tr>\n",
       "  </tbody>\n",
       "</table>\n",
       "</div>"
      ],
      "text/plain": [
       "   dark  light\n",
       "0     0      1\n",
       "1     0      1\n",
       "2     0      1\n",
       "3     0      1\n",
       "4     0      1"
      ]
     },
     "execution_count": 7,
     "metadata": {},
     "output_type": "execute_result"
    }
   ],
   "source": [
    "target.head()"
   ]
  },
  {
   "cell_type": "markdown",
   "metadata": {
    "colab_type": "text",
    "id": "yvaRRlvlom3s"
   },
   "source": [
    "We start building the architecture for our model, first we set up our model with the Sequential() function.\n",
    "\n",
    "We add our first layer using 3 nodes, using the 'relu' activation which is one of the most commonly used activation functions.\n",
    "\n",
    "![alt text](https://i.imgur.com/6xZdwAk.png)\n",
    "\n",
    "Here is a picture of some of the other activation functions just to give a understanding of how they work.\n",
    "\n",
    "\n",
    "\n",
    "\n",
    "\n",
    "\n",
    "\n",
    "![alt text](https://i.imgur.com/wz34AGD.png)\n",
    "\n",
    "Here we see a picture of how the idea of our different layers of the model should work with the relu activation function, we take our nodes value and they are multiplied by the weights and added in the next layer and then again multiplied and added for a sum. This should give the network the value to predict which font color to use based on which background color it see's. These weights can change over time as the model get's more information."
   ]
  },
  {
   "cell_type": "code",
   "execution_count": 24,
   "metadata": {
    "colab": {
     "base_uri": "https://localhost:8080/",
     "height": 3202
    },
    "colab_type": "code",
    "id": "J5ONXE_McfFN",
    "outputId": "3157946b-03d4-4e3a-fe82-e90c405683ac"
   },
   "outputs": [
    {
     "name": "stdout",
     "output_type": "stream",
     "text": [
      "Train on 940 samples, validate on 404 samples\n",
      "Epoch 1/250\n",
      "940/940 [==============================] - 1s 603us/step - loss: 4.4494 - acc: 0.6383 - val_loss: 5.7336 - val_acc: 0.5656\n",
      "Epoch 2/250\n",
      "940/940 [==============================] - 0s 59us/step - loss: 4.2159 - acc: 0.6585 - val_loss: 5.6736 - val_acc: 0.5829\n",
      "Epoch 3/250\n",
      "940/940 [==============================] - 0s 59us/step - loss: 4.0880 - acc: 0.6787 - val_loss: 5.6173 - val_acc: 0.5594\n",
      "Epoch 4/250\n",
      "940/940 [==============================] - 0s 62us/step - loss: 4.0270 - acc: 0.6941 - val_loss: 5.4752 - val_acc: 0.5582\n",
      "Epoch 5/250\n",
      "940/940 [==============================] - 0s 59us/step - loss: 3.8632 - acc: 0.6782 - val_loss: 5.2431 - val_acc: 0.5557\n",
      "Epoch 6/250\n",
      "940/940 [==============================] - 0s 51us/step - loss: 3.5724 - acc: 0.6883 - val_loss: 4.8931 - val_acc: 0.5854\n",
      "Epoch 7/250\n",
      "940/940 [==============================] - 0s 58us/step - loss: 3.2272 - acc: 0.6957 - val_loss: 4.3723 - val_acc: 0.5656\n",
      "Epoch 8/250\n",
      "940/940 [==============================] - 0s 52us/step - loss: 2.8049 - acc: 0.6926 - val_loss: 3.6463 - val_acc: 0.5594\n",
      "Epoch 9/250\n",
      "940/940 [==============================] - 0s 60us/step - loss: 2.2408 - acc: 0.6904 - val_loss: 2.8994 - val_acc: 0.5631\n",
      "Epoch 10/250\n",
      "940/940 [==============================] - 0s 49us/step - loss: 1.7452 - acc: 0.7324 - val_loss: 2.5044 - val_acc: 0.6448\n",
      "Epoch 11/250\n",
      "940/940 [==============================] - 0s 60us/step - loss: 1.5357 - acc: 0.7532 - val_loss: 2.2541 - val_acc: 0.6943\n",
      "Epoch 12/250\n",
      "940/940 [==============================] - 0s 54us/step - loss: 1.4477 - acc: 0.7654 - val_loss: 1.9771 - val_acc: 0.7079\n",
      "Epoch 13/250\n",
      "940/940 [==============================] - 0s 55us/step - loss: 1.2663 - acc: 0.7745 - val_loss: 1.5240 - val_acc: 0.7092\n",
      "Epoch 14/250\n",
      "940/940 [==============================] - 0s 56us/step - loss: 1.0617 - acc: 0.7856 - val_loss: 1.3380 - val_acc: 0.7537\n",
      "Epoch 15/250\n",
      "940/940 [==============================] - 0s 59us/step - loss: 0.9716 - acc: 0.7824 - val_loss: 1.3121 - val_acc: 0.7512\n",
      "Epoch 16/250\n",
      "940/940 [==============================] - 0s 58us/step - loss: 0.9176 - acc: 0.7941 - val_loss: 1.2655 - val_acc: 0.7735\n",
      "Epoch 17/250\n",
      "940/940 [==============================] - 0s 48us/step - loss: 0.8970 - acc: 0.8011 - val_loss: 1.2519 - val_acc: 0.7735\n",
      "Epoch 18/250\n",
      "940/940 [==============================] - 0s 54us/step - loss: 0.8890 - acc: 0.8021 - val_loss: 1.2266 - val_acc: 0.7735\n",
      "Epoch 19/250\n",
      "940/940 [==============================] - 0s 62us/step - loss: 0.8795 - acc: 0.8059 - val_loss: 1.2048 - val_acc: 0.7859\n",
      "Epoch 20/250\n",
      "940/940 [==============================] - 0s 60us/step - loss: 0.8720 - acc: 0.8090 - val_loss: 1.1795 - val_acc: 0.7834\n",
      "Epoch 21/250\n",
      "940/940 [==============================] - 0s 57us/step - loss: 0.8663 - acc: 0.8085 - val_loss: 1.1542 - val_acc: 0.7896\n",
      "Epoch 22/250\n",
      "940/940 [==============================] - 0s 54us/step - loss: 0.8606 - acc: 0.8090 - val_loss: 1.1305 - val_acc: 0.7884\n",
      "Epoch 23/250\n",
      "940/940 [==============================] - 0s 70us/step - loss: 0.8521 - acc: 0.8154 - val_loss: 1.1095 - val_acc: 0.7908\n",
      "Epoch 24/250\n",
      "940/940 [==============================] - 0s 58us/step - loss: 0.8454 - acc: 0.8160 - val_loss: 1.0820 - val_acc: 0.8057\n",
      "Epoch 25/250\n",
      "940/940 [==============================] - 0s 63us/step - loss: 0.8386 - acc: 0.8202 - val_loss: 1.0509 - val_acc: 0.8131\n",
      "Epoch 26/250\n",
      "940/940 [==============================] - 0s 44us/step - loss: 0.8365 - acc: 0.8181 - val_loss: 1.0212 - val_acc: 0.8082\n",
      "Epoch 27/250\n",
      "940/940 [==============================] - 0s 52us/step - loss: 0.8209 - acc: 0.8165 - val_loss: 0.9718 - val_acc: 0.8267\n",
      "Epoch 28/250\n",
      "940/940 [==============================] - 0s 57us/step - loss: 0.8123 - acc: 0.8181 - val_loss: 0.8960 - val_acc: 0.7958\n",
      "Epoch 29/250\n",
      "940/940 [==============================] - 0s 60us/step - loss: 0.7953 - acc: 0.8250 - val_loss: 0.7913 - val_acc: 0.8317\n",
      "Epoch 30/250\n",
      "940/940 [==============================] - 0s 57us/step - loss: 0.7874 - acc: 0.8213 - val_loss: 0.7037 - val_acc: 0.8243\n",
      "Epoch 31/250\n",
      "940/940 [==============================] - 0s 57us/step - loss: 0.7544 - acc: 0.8261 - val_loss: 0.6369 - val_acc: 0.8106\n",
      "Epoch 32/250\n",
      "940/940 [==============================] - 0s 53us/step - loss: 0.7253 - acc: 0.8255 - val_loss: 0.5776 - val_acc: 0.8168\n",
      "Epoch 33/250\n",
      "940/940 [==============================] - 0s 95us/step - loss: 0.6906 - acc: 0.8250 - val_loss: 0.5262 - val_acc: 0.8243\n",
      "Epoch 34/250\n",
      "940/940 [==============================] - 0s 51us/step - loss: 0.6469 - acc: 0.8324 - val_loss: 0.5209 - val_acc: 0.8057\n",
      "Epoch 35/250\n",
      "940/940 [==============================] - 0s 57us/step - loss: 0.6194 - acc: 0.8255 - val_loss: 0.4888 - val_acc: 0.8317\n",
      "Epoch 36/250\n",
      "940/940 [==============================] - 0s 56us/step - loss: 0.5941 - acc: 0.8319 - val_loss: 0.4815 - val_acc: 0.8156\n",
      "Epoch 37/250\n",
      "940/940 [==============================] - 0s 60us/step - loss: 0.5821 - acc: 0.8309 - val_loss: 0.4518 - val_acc: 0.8403\n",
      "Epoch 38/250\n",
      "940/940 [==============================] - 0s 62us/step - loss: 0.5625 - acc: 0.8388 - val_loss: 0.4376 - val_acc: 0.8280\n",
      "Epoch 39/250\n",
      "940/940 [==============================] - 0s 58us/step - loss: 0.5497 - acc: 0.8356 - val_loss: 0.4208 - val_acc: 0.8292\n",
      "Epoch 40/250\n",
      "940/940 [==============================] - 0s 55us/step - loss: 0.5338 - acc: 0.8410 - val_loss: 0.3944 - val_acc: 0.8441\n",
      "Epoch 41/250\n",
      "940/940 [==============================] - 0s 63us/step - loss: 0.5235 - acc: 0.8441 - val_loss: 0.3820 - val_acc: 0.8564\n",
      "Epoch 42/250\n",
      "940/940 [==============================] - 0s 47us/step - loss: 0.5194 - acc: 0.8415 - val_loss: 0.3742 - val_acc: 0.8490\n",
      "Epoch 43/250\n",
      "940/940 [==============================] - 0s 59us/step - loss: 0.5093 - acc: 0.8404 - val_loss: 0.3679 - val_acc: 0.8441\n",
      "Epoch 44/250\n",
      "940/940 [==============================] - 0s 71us/step - loss: 0.5030 - acc: 0.8479 - val_loss: 0.3631 - val_acc: 0.8478\n",
      "Epoch 45/250\n",
      "940/940 [==============================] - 0s 61us/step - loss: 0.4969 - acc: 0.8447 - val_loss: 0.3575 - val_acc: 0.8540\n",
      "Epoch 46/250\n",
      "940/940 [==============================] - 0s 66us/step - loss: 0.4925 - acc: 0.8452 - val_loss: 0.3580 - val_acc: 0.8490\n",
      "Epoch 47/250\n",
      "940/940 [==============================] - 0s 49us/step - loss: 0.4914 - acc: 0.8473 - val_loss: 0.3755 - val_acc: 0.8379\n",
      "Epoch 48/250\n",
      "940/940 [==============================] - 0s 53us/step - loss: 0.4870 - acc: 0.8527 - val_loss: 0.3507 - val_acc: 0.8527\n",
      "Epoch 49/250\n",
      "940/940 [==============================] - 0s 58us/step - loss: 0.4710 - acc: 0.8484 - val_loss: 0.3412 - val_acc: 0.8639\n",
      "Epoch 50/250\n",
      "940/940 [==============================] - 0s 62us/step - loss: 0.4517 - acc: 0.8569 - val_loss: 0.3327 - val_acc: 0.8639\n",
      "Epoch 51/250\n",
      "940/940 [==============================] - 0s 58us/step - loss: 0.4300 - acc: 0.8633 - val_loss: 0.3257 - val_acc: 0.8651\n",
      "Epoch 52/250\n",
      "940/940 [==============================] - 0s 48us/step - loss: 0.4106 - acc: 0.8606 - val_loss: 0.3386 - val_acc: 0.8589\n",
      "Epoch 53/250\n",
      "940/940 [==============================] - 0s 51us/step - loss: 0.3866 - acc: 0.8622 - val_loss: 0.3131 - val_acc: 0.8725\n",
      "Epoch 54/250\n",
      "940/940 [==============================] - 0s 48us/step - loss: 0.3657 - acc: 0.8660 - val_loss: 0.3062 - val_acc: 0.8688\n",
      "Epoch 55/250\n",
      "940/940 [==============================] - 0s 59us/step - loss: 0.3679 - acc: 0.8617 - val_loss: 0.3046 - val_acc: 0.8775\n",
      "Epoch 56/250\n",
      "940/940 [==============================] - 0s 59us/step - loss: 0.3498 - acc: 0.8686 - val_loss: 0.3427 - val_acc: 0.8441\n",
      "Epoch 57/250\n",
      "940/940 [==============================] - 0s 54us/step - loss: 0.3469 - acc: 0.8686 - val_loss: 0.3021 - val_acc: 0.8750\n",
      "Epoch 58/250\n",
      "940/940 [==============================] - 0s 58us/step - loss: 0.3392 - acc: 0.8734 - val_loss: 0.2974 - val_acc: 0.8762\n",
      "Epoch 59/250\n",
      "940/940 [==============================] - 0s 59us/step - loss: 0.3359 - acc: 0.8617 - val_loss: 0.2934 - val_acc: 0.8787\n",
      "Epoch 60/250\n",
      "940/940 [==============================] - 0s 69us/step - loss: 0.3248 - acc: 0.8814 - val_loss: 0.3075 - val_acc: 0.8688\n",
      "Epoch 61/250\n",
      "940/940 [==============================] - 0s 55us/step - loss: 0.3219 - acc: 0.8734 - val_loss: 0.2931 - val_acc: 0.8824\n",
      "Epoch 62/250\n",
      "940/940 [==============================] - 0s 61us/step - loss: 0.3167 - acc: 0.8697 - val_loss: 0.2823 - val_acc: 0.8911\n",
      "Epoch 63/250\n",
      "940/940 [==============================] - 0s 56us/step - loss: 0.3093 - acc: 0.8824 - val_loss: 0.2916 - val_acc: 0.8787\n",
      "Epoch 64/250\n",
      "940/940 [==============================] - 0s 62us/step - loss: 0.3122 - acc: 0.8856 - val_loss: 0.2787 - val_acc: 0.8923\n",
      "Epoch 65/250\n",
      "940/940 [==============================] - 0s 61us/step - loss: 0.3002 - acc: 0.8787 - val_loss: 0.2708 - val_acc: 0.8973\n",
      "Epoch 66/250\n",
      "940/940 [==============================] - 0s 58us/step - loss: 0.2928 - acc: 0.8846 - val_loss: 0.2701 - val_acc: 0.8973\n",
      "Epoch 67/250\n",
      "940/940 [==============================] - 0s 57us/step - loss: 0.2902 - acc: 0.8851 - val_loss: 0.2674 - val_acc: 0.8998\n",
      "Epoch 68/250\n",
      "940/940 [==============================] - 0s 57us/step - loss: 0.2869 - acc: 0.8856 - val_loss: 0.2664 - val_acc: 0.8985\n",
      "Epoch 69/250\n",
      "940/940 [==============================] - 0s 82us/step - loss: 0.2855 - acc: 0.8819 - val_loss: 0.2638 - val_acc: 0.9035\n",
      "Epoch 70/250\n",
      "940/940 [==============================] - 0s 61us/step - loss: 0.2809 - acc: 0.8830 - val_loss: 0.2620 - val_acc: 0.8960\n",
      "Epoch 71/250\n",
      "940/940 [==============================] - 0s 45us/step - loss: 0.2776 - acc: 0.8856 - val_loss: 0.2591 - val_acc: 0.9047\n",
      "Epoch 72/250\n",
      "940/940 [==============================] - 0s 50us/step - loss: 0.2738 - acc: 0.8899 - val_loss: 0.2597 - val_acc: 0.9022\n",
      "Epoch 73/250\n",
      "940/940 [==============================] - 0s 50us/step - loss: 0.2720 - acc: 0.8973 - val_loss: 0.2709 - val_acc: 0.8787\n",
      "Epoch 74/250\n",
      "940/940 [==============================] - 0s 58us/step - loss: 0.2743 - acc: 0.8793 - val_loss: 0.2493 - val_acc: 0.9072\n",
      "Epoch 75/250\n",
      "940/940 [==============================] - 0s 50us/step - loss: 0.2697 - acc: 0.8894 - val_loss: 0.2500 - val_acc: 0.9109\n",
      "Epoch 76/250\n",
      "940/940 [==============================] - 0s 49us/step - loss: 0.2669 - acc: 0.8947 - val_loss: 0.2438 - val_acc: 0.9121\n",
      "Epoch 77/250\n",
      "940/940 [==============================] - 0s 56us/step - loss: 0.2661 - acc: 0.9000 - val_loss: 0.2457 - val_acc: 0.9084\n",
      "Epoch 78/250\n",
      "940/940 [==============================] - 0s 57us/step - loss: 0.2670 - acc: 0.8957 - val_loss: 0.2400 - val_acc: 0.9134\n",
      "Epoch 79/250\n",
      "940/940 [==============================] - 0s 56us/step - loss: 0.2631 - acc: 0.8936 - val_loss: 0.2385 - val_acc: 0.9084\n",
      "Epoch 80/250\n",
      "940/940 [==============================] - 0s 56us/step - loss: 0.2608 - acc: 0.8963 - val_loss: 0.2356 - val_acc: 0.9171\n",
      "Epoch 81/250\n",
      "940/940 [==============================] - 0s 56us/step - loss: 0.2626 - acc: 0.8915 - val_loss: 0.2449 - val_acc: 0.9022\n",
      "Epoch 82/250\n",
      "940/940 [==============================] - 0s 57us/step - loss: 0.2646 - acc: 0.8899 - val_loss: 0.2318 - val_acc: 0.9134\n",
      "Epoch 83/250\n",
      "940/940 [==============================] - 0s 56us/step - loss: 0.2638 - acc: 0.8989 - val_loss: 0.2305 - val_acc: 0.9183\n",
      "Epoch 84/250\n",
      "940/940 [==============================] - 0s 54us/step - loss: 0.2602 - acc: 0.9000 - val_loss: 0.2279 - val_acc: 0.9134\n",
      "Epoch 85/250\n",
      "940/940 [==============================] - 0s 57us/step - loss: 0.2555 - acc: 0.9043 - val_loss: 0.2336 - val_acc: 0.9109\n",
      "Epoch 86/250\n",
      "940/940 [==============================] - 0s 56us/step - loss: 0.2536 - acc: 0.8856 - val_loss: 0.2237 - val_acc: 0.9158\n",
      "Epoch 87/250\n",
      "940/940 [==============================] - 0s 57us/step - loss: 0.2525 - acc: 0.9069 - val_loss: 0.2217 - val_acc: 0.9146\n",
      "Epoch 88/250\n",
      "940/940 [==============================] - 0s 50us/step - loss: 0.2511 - acc: 0.9069 - val_loss: 0.2206 - val_acc: 0.9220\n",
      "Epoch 89/250\n",
      "940/940 [==============================] - 0s 60us/step - loss: 0.2489 - acc: 0.9011 - val_loss: 0.2216 - val_acc: 0.9183\n",
      "Epoch 90/250\n",
      "940/940 [==============================] - 0s 58us/step - loss: 0.2495 - acc: 0.9043 - val_loss: 0.2316 - val_acc: 0.9035\n",
      "Epoch 91/250\n",
      "940/940 [==============================] - 0s 56us/step - loss: 0.2487 - acc: 0.9027 - val_loss: 0.2188 - val_acc: 0.9196\n",
      "Epoch 92/250\n",
      "940/940 [==============================] - 0s 56us/step - loss: 0.2460 - acc: 0.9096 - val_loss: 0.2220 - val_acc: 0.9121\n",
      "Epoch 93/250\n",
      "940/940 [==============================] - 0s 52us/step - loss: 0.2504 - acc: 0.9048 - val_loss: 0.2126 - val_acc: 0.9307\n",
      "Epoch 94/250\n",
      "940/940 [==============================] - 0s 57us/step - loss: 0.2451 - acc: 0.9096 - val_loss: 0.2190 - val_acc: 0.9134\n",
      "Epoch 95/250\n",
      "940/940 [==============================] - 0s 60us/step - loss: 0.2519 - acc: 0.8979 - val_loss: 0.2081 - val_acc: 0.9257\n",
      "Epoch 96/250\n",
      "940/940 [==============================] - 0s 49us/step - loss: 0.2468 - acc: 0.9106 - val_loss: 0.2064 - val_acc: 0.9196\n",
      "Epoch 97/250\n",
      "940/940 [==============================] - 0s 71us/step - loss: 0.2393 - acc: 0.9144 - val_loss: 0.2046 - val_acc: 0.9208\n",
      "Epoch 98/250\n",
      "940/940 [==============================] - 0s 56us/step - loss: 0.2391 - acc: 0.9085 - val_loss: 0.2086 - val_acc: 0.9233\n",
      "Epoch 99/250\n",
      "940/940 [==============================] - 0s 57us/step - loss: 0.2416 - acc: 0.9048 - val_loss: 0.2082 - val_acc: 0.9220\n",
      "Epoch 100/250\n",
      "940/940 [==============================] - 0s 54us/step - loss: 0.2447 - acc: 0.9191 - val_loss: 0.2010 - val_acc: 0.9319\n",
      "Epoch 101/250\n",
      "940/940 [==============================] - 0s 60us/step - loss: 0.2361 - acc: 0.9112 - val_loss: 0.2076 - val_acc: 0.9530\n",
      "Epoch 102/250\n",
      "940/940 [==============================] - 0s 55us/step - loss: 0.2364 - acc: 0.9149 - val_loss: 0.1973 - val_acc: 0.9233\n",
      "Epoch 103/250\n",
      "940/940 [==============================] - 0s 63us/step - loss: 0.2373 - acc: 0.9106 - val_loss: 0.2047 - val_acc: 0.9183\n",
      "Epoch 104/250\n",
      "940/940 [==============================] - 0s 61us/step - loss: 0.2332 - acc: 0.9170 - val_loss: 0.1944 - val_acc: 0.9245\n",
      "Epoch 105/250\n",
      "940/940 [==============================] - 0s 42us/step - loss: 0.2322 - acc: 0.9165 - val_loss: 0.1944 - val_acc: 0.9282\n",
      "Epoch 106/250\n",
      "940/940 [==============================] - 0s 72us/step - loss: 0.2309 - acc: 0.9191 - val_loss: 0.1972 - val_acc: 0.9282\n",
      "Epoch 107/250\n",
      "940/940 [==============================] - 0s 75us/step - loss: 0.2283 - acc: 0.9186 - val_loss: 0.1985 - val_acc: 0.9208\n"
     ]
    }
   ],
   "source": [
    "#n_cols = predictors.shape[1]\n",
    "model = Sequential()\n",
    "model.add(Dense(3, activation='relu', input_dim=3))\n",
    "model.add(Dense(3, activation='relu'))\n",
    "model.add(Dense(2, activation='sigmoid'))\n",
    "\n",
    "# Compile the model\n",
    "model.compile(optimizer='adam', loss='binary_crossentropy', metrics=['accuracy'])\n",
    "\n",
    "early_stopping_monitor = EarlyStopping(patience=3)\n",
    "\n",
    "# Fit the model\n",
    "history = model.fit(predictors, target, validation_split=0.3, epochs=250, callbacks=[early_stopping_monitor])"
   ]
  },
  {
   "cell_type": "code",
   "execution_count": 25,
   "metadata": {
    "colab": {
     "base_uri": "https://localhost:8080/",
     "height": 251
    },
    "colab_type": "code",
    "id": "BVYfLtMeKFM8",
    "outputId": "0688173b-acdb-4f6b-cbe0-d39f6beac92f"
   },
   "outputs": [
    {
     "name": "stdout",
     "output_type": "stream",
     "text": [
      "_________________________________________________________________\n",
      "Layer (type)                 Output Shape              Param #   \n",
      "=================================================================\n",
      "dense_10 (Dense)             (None, 3)                 12        \n",
      "_________________________________________________________________\n",
      "dense_11 (Dense)             (None, 3)                 12        \n",
      "_________________________________________________________________\n",
      "dense_12 (Dense)             (None, 2)                 8         \n",
      "=================================================================\n",
      "Total params: 32\n",
      "Trainable params: 32\n",
      "Non-trainable params: 0\n",
      "_________________________________________________________________\n"
     ]
    }
   ],
   "source": [
    "model.summary()"
   ]
  },
  {
   "cell_type": "markdown",
   "metadata": {},
   "source": [
    "Let's plot the results of our trained model. Here we plot the accuracy and loss over time."
   ]
  },
  {
   "cell_type": "code",
   "execution_count": 26,
   "metadata": {},
   "outputs": [],
   "source": [
    "import matplotlib.pyplot as plt\n",
    "import seaborn as sns"
   ]
  },
  {
   "cell_type": "code",
   "execution_count": 27,
   "metadata": {},
   "outputs": [
    {
     "data": {
      "image/png": "[encoded data removed]",
      "text/plain": [
       "<Figure size 576x396 with 1 Axes>"
      ]
     },
     "metadata": {},
     "output_type": "display_data"
    },
    {
     "data": {
      "image/png": "[encoded data removed]",
      "text/plain": [
       "<Figure size 576x396 with 1 Axes>"
      ]
     },
     "metadata": {},
     "output_type": "display_data"
    }
   ],
   "source": [
    "plt.style.use('seaborn')\n",
    "\n",
    "# summarize history for accuracy\n",
    "plt.plot(history.history['acc'])\n",
    "plt.plot(history.history['val_acc'])\n",
    "plt.title('model accuracy')\n",
    "plt.ylabel('accuracy')\n",
    "plt.xlabel('epoch')\n",
    "plt.legend(['train', 'test'], loc='upper left')\n",
    "plt.show()\n",
    "# summarize history for loss\n",
    "plt.plot(history.history['loss'])\n",
    "plt.plot(history.history['val_loss'])\n",
    "plt.title('model loss')\n",
    "plt.ylabel('loss')\n",
    "plt.xlabel('epoch')\n",
    "plt.legend(['train', 'test'], loc='upper left')\n",
    "plt.show()"
   ]
  },
  {
   "cell_type": "markdown",
   "metadata": {
    "colab_type": "text",
    "id": "X3XbdsGRuu1q"
   },
   "source": [
    "There is room for optimizing the model, where you can think about different things. \n",
    "How many layers are needed, how many nodes are needed in every layer and which activation function should you use.\n",
    "You can also tweek the model on learning rate and how to measure for error.\n",
    "\n",
    "Let's quickly try predicting with a black background color."
   ]
  },
  {
   "cell_type": "code",
   "execution_count": 115,
   "metadata": {
    "colab": {
     "base_uri": "https://localhost:8080/",
     "height": 35
    },
    "colab_type": "code",
    "id": "D8CCRoWtKepd",
    "outputId": "c01fe234-4476-4ecd-e6bc-81c3e7d4a0ff"
   },
   "outputs": [
    {
     "data": {
      "text/plain": [
       "array([[ 0.01243544,  0.94956446]], dtype=float32)"
      ]
     },
     "execution_count": 115,
     "metadata": {},
     "output_type": "execute_result"
    }
   ],
   "source": [
    "bgcolor = pd.DataFrame([[0,0,0]])\n",
    "prediction = model.predict(bgcolor)\n",
    "prediction"
   ]
  },
  {
   "cell_type": "markdown",
   "metadata": {},
   "source": [
    "The left value is dark, the right value is light. Ideally, the preferred font color would be 1, but it would require a lot of optimization to reach that, as that would be a perfectly trained model. To evaluate which font color we should go with, we simply check which of these values is the highest instead."
   ]
  },
  {
   "cell_type": "markdown",
   "metadata": {
    "colab_type": "text",
    "id": "u5GH_L-sKFNC"
   },
   "source": [
    "## Interactive prediction"
   ]
  },
  {
   "cell_type": "markdown",
   "metadata": {},
   "source": [
    "The following code won't run without Jupyter Notebook since we use some features specific to that."
   ]
  },
  {
   "cell_type": "code",
   "execution_count": 28,
   "metadata": {
    "colab": {},
    "colab_type": "code",
    "id": "5fCB8XUSdu5u"
   },
   "outputs": [],
   "source": [
    "from IPython.core.display import display, HTML\n",
    "\n",
    "def predictColor(r, g, b):\n",
    "  bgcolor = pd.DataFrame([[r,g,b]])\n",
    "  bgcolor_hex = '#%02x%02x%02x' % (r, g, b)\n",
    "  black = '#000'\n",
    "  white = '#fff'\n",
    "  fontcolor = ''\n",
    "  prediction = model.predict(bgcolor)\n",
    "  \n",
    "  if prediction[0][0] > prediction[0][1]:\n",
    "    fontcolor = black\n",
    "  else:\n",
    "    fontcolor = white\n",
    "    \n",
    "  display(HTML('<div style=\"background-color:{0}; color:{1};\">SOME TEXT</div>'.format(bgcolor_hex, fontcolor)))"
   ]
  },
  {
   "cell_type": "code",
   "execution_count": 29,
   "metadata": {
    "colab": {},
    "colab_type": "code",
    "id": "8CF96Sr2yltu"
   },
   "outputs": [
    {
     "data": {
      "application/vnd.jupyter.widget-view+json": {
       "model_id": "275b6108e2a34674a140c2c3123171db",
       "version_major": 2,
       "version_minor": 0
      },
      "text/plain": [
       "ColorPicker(value='blue', description='Pick a color')"
      ]
     },
     "metadata": {},
     "output_type": "display_data"
    },
    {
     "data": {
      "application/vnd.jupyter.widget-view+json": {
       "model_id": "99d23af0a09a435ca4affafda8b263ae",
       "version_major": 2,
       "version_minor": 0
      },
      "text/plain": [
       "Output()"
      ]
     },
     "metadata": {},
     "output_type": "display_data"
    }
   ],
   "source": [
    "from ipywidgets import interact, interactive, fixed, interact_manual\n",
    "import ipywidgets as widgets\n",
    "\n",
    "colorpicker = widgets.ColorPicker(\n",
    "    concise=False,\n",
    "    description='Pick a color',\n",
    "    value='blue',\n",
    "    disabled=False\n",
    ")\n",
    "display(colorpicker)\n",
    "\n",
    "out = widgets.Output()\n",
    "display(out)\n",
    "\n",
    "@out.capture()\n",
    "def on_change(change):\n",
    "    if change['type'] == 'change' and change['name'] == 'value':\n",
    "        h = colorpicker.value\n",
    "        rgb = tuple(int(h.lstrip('#')[i:i+2], 16) for i in (0, 2 ,4))\n",
    "        predictColor(rgb[0], rgb[1], rgb[2])\n",
    "    \n",
    "colorpicker.observe(on_change)"
   ]
  }
 ],
 "metadata": {
  "colab": {
   "collapsed_sections": [],
   "name": "m3_presentation.ipynb",
   "provenance": [],
   "version": "0.3.2"
  },
  "kernelspec": {
   "display_name": "Python 3",
   "language": "python",
   "name": "python3"
  },
  "language_info": {
   "codemirror_mode": {
    "name": "ipython",
    "version": 3
   },
   "file_extension": ".py",
   "mimetype": "text/x-python",
   "name": "python",
   "nbconvert_exporter": "python",
   "pygments_lexer": "ipython3",
   "version": "3.6.6"
  }
 },
 "nbformat": 4,
 "nbformat_minor": 2
}
